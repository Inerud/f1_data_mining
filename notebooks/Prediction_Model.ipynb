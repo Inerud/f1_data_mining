{
 "cells": [
  {
   "metadata": {
    "ExecuteTime": {
     "end_time": "2025-05-24T09:14:53.654379Z",
     "start_time": "2025-05-24T09:14:53.099565Z"
    }
   },
   "cell_type": "code",
   "source": [
    "import pandas as pd\n",
    "import numpy as np\n",
    "import os\n",
    "\n",
    "data_dir = '../data'\n",
    "csv_files = [file for file in os.listdir(data_dir) if file.endswith('.csv')]\n",
    "\n",
    "# Load each CSV into a dictionary\n",
    "dataframes = {file.replace('.csv', ''): pd.read_csv(os.path.join(data_dir, file)) for file in csv_files}"
   ],
   "id": "cdb761b262ed8747",
   "outputs": [],
   "execution_count": 1
  },
  {
   "metadata": {
    "ExecuteTime": {
     "end_time": "2025-05-24T17:16:16.489941Z",
     "start_time": "2025-05-24T17:16:16.265824Z"
    }
   },
   "cell_type": "code",
   "source": [
    "# Unpack relevant dataframes\n",
    "races = dataframes['races']\n",
    "results = dataframes['results']\n",
    "drivers = dataframes['drivers']\n",
    "constructors = dataframes['constructors']\n",
    "qualifying = dataframes['qualifying']\n",
    "circuits = dataframes['circuits']\n",
    "\n",
    "# Merge results with races (to get race metadata)\n",
    "results_races = results.merge(races[['raceId', 'year', 'round', 'circuitId', 'name', 'date']], on='raceId', how='left')\n",
    "\n",
    "# Merge with drivers to get driver info\n",
    "results_races_drivers = results_races.merge(drivers[['driverId', 'driverRef', 'surname']], on='driverId', how='left')\n",
    "\n",
    "# Merge with constructors to get team info\n",
    "results_races_drivers_teams = results_races_drivers.merge(constructors[['constructorId', 'name']], on='constructorId', how='left', suffixes=('', '_constructor'))\n",
    "\n",
    "# Merge with qualifying to get qualifying position\n",
    "results_full = results_races_drivers_teams.merge(qualifying[['raceId', 'driverId', 'position']], on=['raceId', 'driverId'], how='left', suffixes=('', '_qualifying'))\n",
    "\n",
    "# Merge with circuits for track info\n",
    "results_full = results_full.merge(circuits[['circuitId', 'name']], on='circuitId', how='left', suffixes=('', '_circuit'))\n",
    "\n",
    "\n",
    "# Target variable: 1 if the driver won that race\n",
    "results_full['won'] = (results_full['positionOrder'] == 1).astype(int)\n",
    "\n",
    "# Drop unnecessary columns and keep relevant features\n",
    "model_df = results_full[[\n",
    "    'raceId', 'year', 'round', 'date',\n",
    "    'driverId', 'driverRef', 'surname',\n",
    "    'constructorId', 'name_constructor',\n",
    "    'grid', 'position', 'positionOrder', 'position_qualifying',\n",
    "    'won'\n",
    "]]\n",
    "\n",
    "# Example: Drop rows with missing values (optional)\n",
    "model_df = model_df.dropna()\n",
    "\n",
    "# Show a sample\n",
    "print(model_df.sample(5))\n"
   ],
   "id": "25920b38c0f512ec",
   "outputs": [
    {
     "name": "stdout",
     "output_type": "stream",
     "text": [
      "       raceId  year  round        date  driverId           driverRef  \\\n",
      "7614        4  2009      4  2009-04-26        20              vettel   \n",
      "7672        6  2009      6  2009-05-24        67               buemi   \n",
      "25650    1086  2022     13  2022-07-31       840              stroll   \n",
      "5116      256  1995     17  1995-11-12        81          morbidelli   \n",
      "1199       74  2005      4  2005-04-24        30  michael_schumacher   \n",
      "\n",
      "          surname  constructorId name_constructor  grid position  \\\n",
      "7614       Vettel              9         Red Bull     3        2   \n",
      "7672        Buemi              5       Toro Rosso    11       \\N   \n",
      "25650      Stroll            117     Aston Martin    14       11   \n",
      "5116   Morbidelli             29         Footwork    13        3   \n",
      "1199   Schumacher              6          Ferrari    13        2   \n",
      "\n",
      "       positionOrder  position_qualifying  won  \n",
      "7614               2                  3.0    0  \n",
      "7672              20                 11.0    0  \n",
      "25650             11                 14.0    0  \n",
      "5116               3                 13.0    0  \n",
      "1199               2                 14.0    0  \n"
     ]
    }
   ],
   "execution_count": 10
  },
  {
   "metadata": {},
   "cell_type": "markdown",
   "source": "Does this driver win?",
   "id": "891d7484162c902"
  },
  {
   "metadata": {
    "ExecuteTime": {
     "end_time": "2025-05-24T09:48:05.546033Z",
     "start_time": "2025-05-24T09:48:05.532428Z"
    }
   },
   "cell_type": "code",
   "source": [
    "from sklearn.preprocessing import LabelEncoder\n",
    "\n",
    "model_df['year'] = pd.to_numeric(model_df['year'])\n",
    "\n",
    "# Create encoders\n",
    "driver_encoder = LabelEncoder()\n",
    "constructor_encoder = LabelEncoder()\n",
    "\n",
    "model_df['driver_encoded'] = driver_encoder.fit_transform(model_df['driverRef'])\n",
    "model_df['constructor_encoded'] = constructor_encoder.fit_transform(model_df['name_constructor'])\n",
    "model_df['top_3_grid'] = (model_df['grid'] <= 3).astype(int)\n",
    "model_df['qual_grid_diff'] = model_df['position_qualifying'] - model_df['grid']\n"
   ],
   "id": "a31064055da0d5a1",
   "outputs": [],
   "execution_count": 9
  },
  {
   "metadata": {
    "ExecuteTime": {
     "end_time": "2025-05-24T09:25:51.091768Z",
     "start_time": "2025-05-24T09:25:51.069232Z"
    }
   },
   "cell_type": "code",
   "source": [
    "from sklearn.model_selection import train_test_split\n",
    "\n",
    "features = ['driver_encoded', 'constructor_encoded', 'grid', 'position_qualifying',\n",
    "            'top_3_grid', 'qual_grid_diff', 'year']\n",
    "target = 'won'\n",
    "\n",
    "X = model_df[features]\n",
    "y = model_df[target]\n",
    "\n",
    "X_train, X_test, y_train, y_test = train_test_split(X, y, test_size=0.2, stratify=y, random_state=42)\n",
    "\n",
    "# Calculate scale_pos_weight: ratio of negative to positive classes\n",
    "scale = (len(y_train) - sum(y_train)) / sum(y_train)\n",
    "print(f\"scale_pos_weight: {scale:.2f}\")\n",
    "\n"
   ],
   "id": "e93154c5c2c4b363",
   "outputs": [
    {
     "name": "stdout",
     "output_type": "stream",
     "text": [
      "scale_pos_weight: 20.25\n"
     ]
    }
   ],
   "execution_count": 7
  },
  {
   "metadata": {
    "ExecuteTime": {
     "end_time": "2025-05-24T09:25:52.884174Z",
     "start_time": "2025-05-24T09:25:52.778460Z"
    }
   },
   "cell_type": "code",
   "source": [
    "from xgboost import XGBClassifier\n",
    "from sklearn.metrics import classification_report\n",
    "\n",
    "model = XGBClassifier(\n",
    "    use_label_encoder=False,\n",
    "    eval_metric='logloss',\n",
    "    scale_pos_weight=scale\n",
    ")\n",
    "model.fit(X_train, y_train)\n",
    "\n",
    "y_pred = model.predict(X_test)\n",
    "print(classification_report(y_test, y_pred))\n"
   ],
   "id": "340e79911a40bee7",
   "outputs": [
    {
     "name": "stdout",
     "output_type": "stream",
     "text": [
      "              precision    recall  f1-score   support\n",
      "\n",
      "           0       0.99      0.94      0.96      2000\n",
      "           1       0.36      0.74      0.49        99\n",
      "\n",
      "    accuracy                           0.93      2099\n",
      "   macro avg       0.67      0.84      0.72      2099\n",
      "weighted avg       0.96      0.93      0.94      2099\n",
      "\n"
     ]
    },
    {
     "name": "stderr",
     "output_type": "stream",
     "text": [
      "C:\\Users\\stine\\IdeaProjects\\f1_data_mining\\.venv\\Lib\\site-packages\\xgboost\\training.py:183: UserWarning: [10:25:52] WARNING: C:\\actions-runner\\_work\\xgboost\\xgboost\\src\\learner.cc:738: \n",
      "Parameters: { \"use_label_encoder\" } are not used.\n",
      "\n",
      "  bst.update(dtrain, iteration=i, fobj=obj)\n"
     ]
    }
   ],
   "execution_count": 8
  }
 ],
 "metadata": {
  "kernelspec": {
   "display_name": "Python 3",
   "language": "python",
   "name": "python3"
  },
  "language_info": {
   "codemirror_mode": {
    "name": "ipython",
    "version": 2
   },
   "file_extension": ".py",
   "mimetype": "text/x-python",
   "name": "python",
   "nbconvert_exporter": "python",
   "pygments_lexer": "ipython2",
   "version": "2.7.6"
  }
 },
 "nbformat": 4,
 "nbformat_minor": 5
}
